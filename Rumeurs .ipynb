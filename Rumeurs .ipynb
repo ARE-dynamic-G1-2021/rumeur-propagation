{
 "cells": [
  {
   "cell_type": "code",
   "execution_count": 1,
   "metadata": {},
   "outputs": [],
   "source": [
    "import random \n",
    "import numpy as np \n",
    "import tkinter as Tk"
   ]
  },
  {
   "cell_type": "code",
   "execution_count": 2,
   "metadata": {},
   "outputs": [],
   "source": [
    "def generate_spatial_world(n,fiabilité):\n",
    "    if  fiabilité :\n",
    "        a = np.array([[(0,random.randint(30,100)) for i in range(n)]])#2 represente un emplacement innocupé \n",
    "    \n",
    "        for i in range (n-1) :\n",
    "            b = np.array([[(0,random.randint(30,100)) for i in range(n)]])\n",
    "            a = np.append(a,b,axis=0)\n",
    "        return a\n",
    "        \n",
    "    \n",
    "    a = np.array([[(0,random.randint(0,100)) for i in range(n)]])\n",
    "    \n",
    "    for i in range (n-1) :\n",
    "        b = np.array([[(0,random.randint(0,100)) for i in range(n)]])\n",
    "        a = np.append(a,b,axis=0)\n",
    "    return a"
   ]
  },
  {
   "cell_type": "code",
   "execution_count": 3,
   "metadata": {},
   "outputs": [],
   "source": [
    "def Voisinage (world,n,m,neigh):\n",
    "    return [(x,y) for x in range (max(0,n-neigh),min(len(world),n+neigh+1)) for y in range ( max(m - neigh , 0 ) , min(len(world[x]),m + neigh + 1) ) if (x != n or y != m)]"
   ]
  },
  {
   "cell_type": "code",
   "execution_count": 4,
   "metadata": {},
   "outputs": [],
   "source": [
    "def whisper (world,n,m,neigh): \n",
    "    L = Voisinage(world,n,m,neigh)\n",
    "    for i,j in L : \n",
    "        w = world[i,j]\n",
    "        if w[0] == 0 : \n",
    "            c = random.randint(0,100)\n",
    "            if c >= w[1] :\n",
    "                z = (2,w[1])\n",
    "                world[i,j]=z\n",
    "            else : \n",
    "                z = (4,w[1])\n",
    "                world[i,j]=z"
   ]
  },
  {
   "cell_type": "code",
   "execution_count": 16,
   "metadata": {},
   "outputs": [],
   "source": [
    "def simulationMonde(World,neigh,canvasName):\n",
    "    for i in range (len(World)): \n",
    "        for j in range (len(World)):\n",
    "            w = World[i,j]\n",
    "            if w[0]== 1 or w[0]==3 :\n",
    "                whisper(World,i,j,neigh)\n",
    "    for i in range (len(World)) :\n",
    "        for j in range (len(World[i])):\n",
    "            w = World[i,j]\n",
    "            if w[0] == 2 :\n",
    "                w = (1,w[1])\n",
    "                World[i,j]=w\n",
    "    canvasName.after(1500,afficheMonde,World,canvasName)"
   ]
  },
  {
   "cell_type": "code",
   "execution_count": 6,
   "metadata": {},
   "outputs": [],
   "source": [
    "def plusieurTour(World,neigh,max_iter,canvasName):\n",
    "    for i in range (max_iter):\n",
    "        simulationMonde(World,neigh,canvasName)"
   ]
  },
  {
   "cell_type": "code",
   "execution_count": 7,
   "metadata": {},
   "outputs": [],
   "source": [
    "def create_rectangle (x, y, l, canvasName, colorName):\n",
    "    return canvasName.create_rectangle(x, y, x + l, y + l, fill = colorName)"
   ]
  },
  {
   "cell_type": "code",
   "execution_count": 11,
   "metadata": {},
   "outputs": [],
   "source": [
    "def afficheMonde(World,canvasName):\n",
    "    initial_x = 20\n",
    "    initial_y = 13\n",
    "    for X in range(len(World)):\n",
    "        for Y in range(len(World[X])):\n",
    "            c = World[X, Y]\n",
    "            if c[0] == 0:\n",
    "                create_rectangle(initial_x, initial_y, 6, canvasName, \"white\")\n",
    "            elif c[0] == 1:\n",
    "                create_rectangle(initial_x, initial_y, 6, canvasName, \"purple\")\n",
    "            elif c[0] == 4:\n",
    "                create_rectangle(initial_x, initial_y, 6, canvasName, \"#00DAD0\")\n",
    "            else : \n",
    "                create_rectangle(initial_x, initial_y, 6, canvasName, \"red\")\n",
    "            initial_x += 20\n",
    "        initial_x = 20\n",
    "        initial_y += 20    "
   ]
  },
  {
   "cell_type": "code",
   "execution_count": 9,
   "metadata": {},
   "outputs": [],
   "source": [
    "def initialisation(World,nbIndividue,taille):\n",
    "    if nbIndividue != 0 :\n",
    "        for i in range (nbIndividue):\n",
    "            X =  random.randint(0,taille -1)\n",
    "            Y =  random.randint(0,taille -1)\n",
    "            c = World[X,Y]\n",
    "            c[0]=3\n",
    "            World [X,Y]=c"
   ]
  },
  {
   "cell_type": "code",
   "execution_count": 109,
   "metadata": {},
   "outputs": [],
   "source": [
    "def afficheLegende():\n",
    "    create_rectangle(20, 40, 15, legende, \"white\")\n",
    "    create_rectangle(20, 60, 15, legende, \"purple\")\n",
    "    create_rectangle(20, 80, 15, legende, \"#00DAD0\")\n",
    "    create_rectangle(20, 100, 15, legende, \"red\")\n",
    "    legende.create_text(150,50,text=\"Individu pas au courant de la rumeur\",font = (\"Arial\",10))\n",
    "    legende.create_text(130,70,text=\"Individu qui ont cru la rumeur \",font = (\"Arial\",10))\n",
    "    legende.create_text(141,90,text=\"Individu qui ont pas cru la rumeur\",font = (\"Arial\",10))\n",
    "    legende.create_text(134,110,text=\"Individu à l\\'origine de la rumeur\",font = (\"Arial\",10))\n",
    "    "
   ]
  },
  {
   "cell_type": "code",
   "execution_count": null,
   "metadata": {},
   "outputs": [],
   "source": [
    "def run ():\n",
    "    myCanvas.delete(\"all\")\n",
    "    World = generate_spatial_world(w1.get(),w2.get())\n",
    "    initialisation(World,w4.get(),w1.get())\n",
    "    afficheMonde(World,myCanvas)\n",
    "    plusieurTour(World,w5.get(),w3.get(),myCanvas)\n",
    "    \n",
    "window = Tk.Tk()\n",
    "\n",
    "#Parametre de la fenetre \n",
    "window.title(\"Popagation d'une Rumeur\")\n",
    "window.minsize(1152,720)\n",
    "window.iconbitmap(\"Icone.ico\")\n",
    "window.config(background=\"white\")\n",
    "window.resizable(False,False)\n",
    "\n",
    "#Titre\n",
    "label_title = Tk.Label(window, text=\"Propagation d\\'une Rumeur\",font=(\"Arial\",30),bg = \"white\",fg = \"black\")\n",
    "\n",
    "#Frame \n",
    "frameSlider = Tk.Frame(window,bg = \"white\", bd = 0,highlightthickness=0)\n",
    "frameLegende =Tk.Frame(window,bg = \"white\", bd = 0,highlightthickness=0)\n",
    "\n",
    "#Parametres du monde \n",
    "label_Parametre = Tk.Label(frameSlider,text=\"Parametres\",font = (\"Arial\",30),bg = \"white\",fg = \"black\")\n",
    "w1 = Tk.Scale(frameSlider, length = 185, label = \"Taille du Monde\",from_=0 ,orient=\"horizontal\",to=30,resolution=1, bg = \"white\", fg = \"black\")\n",
    "w2 = Tk.Scale(frameSlider, length = 185, label='Fiabilité',from_=0, to=1, orient=\"horizontal\", resolution=1,bg = \"white\", fg = \"black\")\n",
    "w3 = Tk.Scale(frameSlider, length = 185, label='Nombre d\\'itérations', from_=0, to=50, orient=\"horizontal\",bg = \"white\", fg = \"black\") \n",
    "w4 = Tk.Scale(frameSlider, length = 185, label='Nombre d\\'individue de depart', from_=0, to = 50, orient=\"horizontal\",bg = \"white\", fg = \"black\") \n",
    "w5 = Tk.Scale(frameSlider, length = 185, label=\"Taille de l\\'entourage\", from_=0, to = 5, orient=\"horizontal\",bg = \"white\", fg = \"black\") \n",
    "\n",
    "\n",
    "w1.set(10)\n",
    "w2.set(1)\n",
    "w3.set(1)\n",
    "w4.set(1)\n",
    "w5.set(1)\n",
    "\n",
    "label_Parametre.pack(expand= \"yes\")\n",
    "w1.pack()\n",
    "w2.pack()\n",
    "w3.pack()\n",
    "w4.pack()\n",
    "w5.pack()\n",
    "\n",
    "#Resumé \n",
    "\n",
    "Resume = \"Rouge -> indivue de depart \\n Violet -> Personnes qui ont cru la rumeurs \\n Blanc -> Personne qui n'ont pas crue la Rumeur\"\n",
    "label_resume = Tk.Label(window,text=Resume,font=(\"Arial\",20),bg = \"white\",fg = \"black\")\n",
    "legende = Tk.Canvas(frameLegende,width=300,height=150)\n",
    "Legende_bouton = Tk.Button(frameLegende, text = \"Legende\", font = (\"Arial\", 20), bg = \"#F41F1F\", fg = \"white\", command=afficheLegende, activebackground = \"#AE0D0D\", activeforeground = \"white\")\n",
    "legende.pack()\n",
    "Legende_bouton.pack()\n",
    "\n",
    "#Bouton \n",
    "launch_bouton = Tk.Button(window, text = \"Lancer la simulation\", font = (\"Arial\", 20), bg = \"#F41F1F\", fg = \"white\", command=run, activebackground = \"#AE0D0D\", activeforeground = \"white\")\n",
    "\n",
    "#Dessn du Monde \n",
    "myCanvas = Tk.Canvas(window,width=625,height=610)\n",
    "\n",
    "#Affichage\n",
    "label_title.grid(row = 0 , column=2, sticky = \"NESW\")\n",
    "frameSlider.grid(row = 1 , column = 0 , sticky = \"W\")\n",
    "launch_bouton.grid(row = 2,column = 3, sticky= \"NESW\")\n",
    "myCanvas.grid(row=1,column = 1,columnspan=2)\n",
    "frameLegende.grid(row = 1,column = 3, sticky= \"E\" )\n",
    "\n",
    "\n",
    "window.mainloop()"
   ]
  }
 ],
 "metadata": {
  "kernelspec": {
   "display_name": "Python 3",
   "language": "python",
   "name": "python3"
  },
  "language_info": {
   "codemirror_mode": {
    "name": "ipython",
    "version": 3
   },
   "file_extension": ".py",
   "mimetype": "text/x-python",
   "name": "python",
   "nbconvert_exporter": "python",
   "pygments_lexer": "ipython3",
   "version": "3.8.5"
  }
 },
 "nbformat": 4,
 "nbformat_minor": 4
}
